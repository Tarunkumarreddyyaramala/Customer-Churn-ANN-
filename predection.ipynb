{
 "cells": [
  {
   "cell_type": "code",
   "execution_count": 3,
   "id": "04fdd6f3",
   "metadata": {},
   "outputs": [],
   "source": [
    "import pandas as pd\n",
    "import numpy as np\n",
    "import tensorflow as tf\n",
    "from tensorflow.keras.models import load_model\n",
    "import pickle"
   ]
  },
  {
   "cell_type": "code",
   "execution_count": 4,
   "id": "8e6620bd",
   "metadata": {},
   "outputs": [
    {
     "name": "stderr",
     "output_type": "stream",
     "text": [
      "WARNING:absl:Compiled the loaded model, but the compiled metrics have yet to be built. `model.compile_metrics` will be empty until you train or evaluate the model.\n"
     ]
    }
   ],
   "source": [
    "## load the ANN trained model , scaler pickle, onehot encoder\n",
    "model = load_model('model.h5')\n",
    "\n",
    "## load(read) the emcoder and scalar\n",
    "with open('label_encoder_gender.pk1','rb') as file:\n",
    "    label_encoder_gender = pickle.load(file)\n",
    "\n",
    "with open('onehot_encoder_geography.pk1', 'rb') as file:\n",
    "    onehot_encoder_geography = pickle.load(file)\n",
    "\n",
    "with open('scalar.pk1', 'rb') as file:\n",
    "    scalar = pickle.load(file)\n",
    "    "
   ]
  },
  {
   "cell_type": "code",
   "execution_count": 5,
   "id": "0d8e6336",
   "metadata": {},
   "outputs": [],
   "source": [
    "# Example input\n",
    "input_data = {\n",
    "    'CreditScore': 600,\n",
    "    'Geography': 'France',\n",
    "    'Gender': 'Male',\n",
    "    'Age': 40,\n",
    "    'Tenure': 3,\n",
    "    'Balance': 60000,\n",
    "    'NumOfProducts': 2,\n",
    "    'HasCrCard': 1,\n",
    "    'IsActiveMember': 1,\n",
    "    'EstimatedSalary': 50000\n",
    "}\n"
   ]
  },
  {
   "cell_type": "code",
   "execution_count": 6,
   "id": "c97e5e0f",
   "metadata": {},
   "outputs": [],
   "source": [
    "## convert into Dataframe\n",
    "import pandas as pd\n",
    "\n",
    "# Single-row DataFrame\n",
    "input_df = pd.DataFrame([input_data])\n"
   ]
  },
  {
   "cell_type": "code",
   "execution_count": 7,
   "id": "b7664c43",
   "metadata": {},
   "outputs": [],
   "source": [
    "## Encode categorival variables\n",
    "# Encode Gender using the label encoder fitted on training data\n",
    "input_df['Gender'] = label_encoder_gender.transform(input_df['Gender'])\n",
    "\n",
    "# One-hot encode Geography using the encoder fitted on training data\n",
    "geography_encoded = onehot_encoder_geography.transform(input_df[['Geography']]).toarray()\n",
    "geography_df = pd.DataFrame(\n",
    "    geography_encoded,\n",
    "    columns=onehot_encoder_geography.get_feature_names_out(['Geography'])\n",
    ")\n",
    "\n",
    "# Drop original Geography column and concatenate encoded\n",
    "input_df = pd.concat([input_df.drop('Geography', axis=1), geography_df], axis=1)\n"
   ]
  },
  {
   "cell_type": "code",
   "execution_count": 8,
   "id": "a2716741",
   "metadata": {},
   "outputs": [],
   "source": [
    "## Reorder columns to match training data\n",
    "# Ensure columns match scaler input\n",
    "expected_columns = scalar.feature_names_in_\n",
    "input_df = input_df[expected_columns]\n"
   ]
  },
  {
   "cell_type": "code",
   "execution_count": 9,
   "id": "de7b8cf2",
   "metadata": {},
   "outputs": [
    {
     "data": {
      "text/plain": [
       "array([[-0.47912542,  0.91678285,  0.09830529, -0.71248217, -0.26873812,\n",
       "         0.78043148,  0.64635082,  0.96914252, -0.84682956,  0.99468081,\n",
       "        -0.58607517, -0.56451866]])"
      ]
     },
     "execution_count": 9,
     "metadata": {},
     "output_type": "execute_result"
    }
   ],
   "source": [
    "## Scale the input\n",
    "input_scaled = scalar.transform(input_df)\n",
    "input_scaled\n"
   ]
  },
  {
   "cell_type": "code",
   "execution_count": 10,
   "id": "3961cdbb",
   "metadata": {},
   "outputs": [
    {
     "name": "stdout",
     "output_type": "stream",
     "text": [
      "\u001b[1m1/1\u001b[0m \u001b[32m━━━━━━━━━━━━━━━━━━━━\u001b[0m\u001b[37m\u001b[0m \u001b[1m0s\u001b[0m 87ms/step\n"
     ]
    },
    {
     "data": {
      "text/plain": [
       "array([[0.04387524]], dtype=float32)"
      ]
     },
     "execution_count": 10,
     "metadata": {},
     "output_type": "execute_result"
    }
   ],
   "source": [
    "prediction= model.predict(input_scaled)\n",
    "prediction"
   ]
  },
  {
   "cell_type": "code",
   "execution_count": 11,
   "id": "7afeaea5",
   "metadata": {},
   "outputs": [
    {
     "data": {
      "text/plain": [
       "np.float32(0.043875244)"
      ]
     },
     "execution_count": 11,
     "metadata": {},
     "output_type": "execute_result"
    }
   ],
   "source": [
    "prediction_prob = prediction[0][0]\n",
    "prediction_prob"
   ]
  },
  {
   "cell_type": "code",
   "execution_count": null,
   "id": "854a0ff9",
   "metadata": {},
   "outputs": [
    {
     "name": "stdout",
     "output_type": "stream",
     "text": [
      "Customer is not likely to churn!.\n"
     ]
    }
   ],
   "source": [
    "if prediction_prob > 0.5:\n",
    "    print(f\"Customer is likely to churn!\")\n",
    "else:\n",
    "    print(f\"Customer is not likely to churn!\")"
   ]
  },
  {
   "cell_type": "code",
   "execution_count": null,
   "id": "45e0ca0a",
   "metadata": {},
   "outputs": [],
   "source": []
  }
 ],
 "metadata": {
  "kernelspec": {
   "display_name": "Python 3",
   "language": "python",
   "name": "python3"
  },
  "language_info": {
   "codemirror_mode": {
    "name": "ipython",
    "version": 3
   },
   "file_extension": ".py",
   "mimetype": "text/x-python",
   "name": "python",
   "nbconvert_exporter": "python",
   "pygments_lexer": "ipython3",
   "version": "3.13.5"
  }
 },
 "nbformat": 4,
 "nbformat_minor": 5
}
